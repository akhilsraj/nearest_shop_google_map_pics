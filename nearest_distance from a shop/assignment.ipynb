{
 "cells": [
  {
   "cell_type": "code",
   "execution_count": 1,
   "metadata": {},
   "outputs": [],
   "source": [
    "import cv2\n",
    "import argparse\n",
    "import numpy as np\n",
    "import collections"
   ]
  },
  {
   "cell_type": "code",
   "execution_count": 16,
   "metadata": {},
   "outputs": [],
   "source": [
    "img = cv2.imread(r'C:\\Users\\Akhil S R\\Downloads\\Images_new\\Images\\tmp_3.png')\n",
    "dim = img.shape"
   ]
  },
  {
   "cell_type": "code",
   "execution_count": 3,
   "metadata": {},
   "outputs": [
    {
     "data": {
      "text/plain": [
       "(500, 640, 3)"
      ]
     },
     "execution_count": 3,
     "metadata": {},
     "output_type": "execute_result"
    }
   ],
   "source": [
    "dim"
   ]
  },
  {
   "cell_type": "code",
   "execution_count": 14,
   "metadata": {},
   "outputs": [],
   "source": [
    "def nearest_shop(img,anchor_point_x,anchor_point_y):\n",
    "    shop = [255,251,240]\n",
    "    road = [255,255,255]\n",
    "    building = [241,243,244]\n",
    "    park = [197,232,197]\n",
    "    flag_road = 1\n",
    "    flag_shop  = 1\n",
    "    flag_building = 1\n",
    "    flag_park = 1\n",
    "    global shop_x,shop_y,road_x,road_y,building_x,building_y,park_x,park_y \n",
    "    for x, y in [(0,0),(0,1), (1,1), (1,0), (1,-1), (0,-1), (-1,-1), (-1,0), (-1,1)]: # directions    \n",
    "        for i in range(0,dim[0]):\n",
    "            for j in range(0,dim[1]):\n",
    "                if((anchor_point_x + i*x < 500) and (anchor_point_y + j*y < 640)):\n",
    "                    rgb = img[anchor_point_x + i*x][anchor_point_y + j*y]\n",
    "                    if((rgb == road).all() and flag_road == 1):\n",
    "                        road_x,road_y = anchor_point_x + i*x,anchor_point_y + j*y\n",
    "                        flag_road = 0\n",
    "                    elif(collections.Counter(rgb) == collections.Counter(shop) and flag_shop == 1):\n",
    "                        shop_x,shop_y = anchor_point_x + i*x,anchor_point_y + j*y\n",
    "                        flag_shop = 0\n",
    "                    elif(collections.Counter(rgb) == collections.Counter(building) and flag_building == 1):\n",
    "                        building_x,building_y = anchor_point_x + i*x,anchor_point_y + j*y\n",
    "                        flag_building = 0\n",
    "                    elif(collections.Counter(rgb) == collections.Counter(park) and flag_park == 1):\n",
    "                        park_x,park_y = anchor_point_x + i*x,anchor_point_y + j*y\n",
    "                        flag_park = 0\n",
    "    distance_version_2(flag_road,flag_shop,flag_building,flag_park)"
   ]
  },
  {
   "cell_type": "code",
   "execution_count": 5,
   "metadata": {},
   "outputs": [],
   "source": [
    "def distance_version_2(flag_road,flag_shop,flag_building,flag_park):\n",
    "    if(flag_shop == 1):\n",
    "        print(\"Shop isnt in the picture\")\n",
    "    else:\n",
    "        shop = np.array((int(shop_x),int(shop_y)))\n",
    "    if(flag_road == 1):\n",
    "        print(\"Road isnt in the picture\")\n",
    "    else:\n",
    "        building = np.array((int(building_x),int(building_y)))\n",
    "    if(flag_building == 1):\n",
    "        print(\"Building isnt in the picture\")\n",
    "    else:\n",
    "        road = np.array((int(road_x),int(road_y)))\n",
    "    if(flag_park == 1):\n",
    "        print(\"Park isnt in the picture\")\n",
    "    else:\n",
    "        park = np.array((int(park_x),int(park_y)))\n",
    "    try:\n",
    "        print(\"Road\",np.linalg.norm(shop - road))\n",
    "    except:\n",
    "        print(\"An exception occurred probably road or shop isnt there in the picture\")\n",
    "    try:\n",
    "        print(\"Building\",np.linalg.norm(shop - building))\n",
    "    except:\n",
    "        print(\"An exception occurred probably building or shop isnt there in the picture\")    \n",
    "    try:\n",
    "        print(\"Park\",np.linalg.norm(shop - park))\n",
    "    except:\n",
    "        print(\"An exception occurred probably park or shop isnt there in the picture\")"
   ]
  },
  {
   "cell_type": "code",
   "execution_count": 17,
   "metadata": {},
   "outputs": [
    {
     "name": "stdout",
     "output_type": "stream",
     "text": [
      "Road isnt in the picture\n",
      "Park isnt in the picture\n",
      "Road 483.0\n",
      "An exception occurred probably building or shop isnt there in the picture\n",
      "An exception occurred probably park or shop isnt there in the picture\n"
     ]
    }
   ],
   "source": [
    "nearest_shop(img,340,250)"
   ]
  },
  {
   "cell_type": "code",
   "execution_count": null,
   "metadata": {},
   "outputs": [],
   "source": []
  }
 ],
 "metadata": {
  "kernelspec": {
   "display_name": "tfp3",
   "language": "python",
   "name": "tfp3"
  },
  "language_info": {
   "codemirror_mode": {
    "name": "ipython",
    "version": 3
   },
   "file_extension": ".py",
   "mimetype": "text/x-python",
   "name": "python",
   "nbconvert_exporter": "python",
   "pygments_lexer": "ipython3",
   "version": "3.7.4"
  }
 },
 "nbformat": 4,
 "nbformat_minor": 4
}
